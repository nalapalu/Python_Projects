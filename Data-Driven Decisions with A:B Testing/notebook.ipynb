{
 "cells": [
  {
   "cell_type": "markdown",
   "id": "762aa00d-7c86-4831-bb4d-91fe6543b523",
   "metadata": {},
   "source": [
    "![ab_testing_image](ab_testing_image.jpg)"
   ]
  },
  {
   "cell_type": "markdown",
   "id": "18d9458a-8243-4d6e-ba20-6fe91ef5f395",
   "metadata": {},
   "source": [
    "Evaluating the impact of a new search ranking algorithm designed to improve conversion rates. The Product team is considering a full rollout, but only if the experiment shows a clear positive effect on the conversion rate and does not lead to a longer time to book.\n",
    "\n",
    "They have shared A/B test datasets with session-level booking data (`\"sessions_data.csv\"`) and user-level control/variant split (`\"users_data.csv\"`). Your job is to analyze and interpret the results to determine whether the new ranking system delivers a statistically significant improvement and provide a clear, data-driven recommendation."
   ]
  },
  {
   "cell_type": "markdown",
   "id": "2f65412a-89d7-4e97-887b-e9a053c77fb3",
   "metadata": {},
   "source": [
    "## `sessions_data.csv`\n",
    "\n",
    "| column | data type | description | \n",
    "|--------|-----------|-------------|\n",
    "| `session_id` | `string` | Unique session identifier (unique for each row) |\n",
    "| `user_id` | `string` | Unique user identifier (non logged-in users have missing user_id values; each user can have multiple sessions) |\n",
    "| `session_start_timestamp` | `string` | When a session started |\n",
    "| `booking_timestamp` | `string` | When a booking was made (missing if no booking was made during a session) |\n",
    "| `time_to_booking` | `float` | time from start of the session to booking, in minutes (missing if no booking was made during a session) |\n",
    "| `conversion` | `integer` | _New column to create:_ did session end up with a booking (0 if booking_timestamp or time_to_booking is Null, otherwise 1) |\n",
    "\n",
    "<br>\n",
    "\n",
    "## `users_data.csv`\n",
    "\n",
    "| column | data type | description | \n",
    "|--------|-----------|-------------|\n",
    "| `user_id` | `string` | Unique user identifier (only logged-in users in this table) |\n",
    "| `experiment_group` | `string` | control / variant split for the experiment (expected to be equal 50/50) |\n",
    "\n",
    "<br>"
   ]
  },
  {
   "cell_type": "markdown",
   "id": "025aae0a-098c-4c57-aa20-f4a1ab0d170c",
   "metadata": {},
   "source": [
    "The full on criteria are the following:\n",
    "- Primary metric (conversion) effect must be statistically significant and show positive effect (increase).\n",
    "- Guardrail (time_to_booking) effect must either be statistically insignificant or show positive effect (decrease)"
   ]
  },
  {
   "cell_type": "code",
   "execution_count": 1,
   "id": "ee260519",
   "metadata": {},
   "outputs": [],
   "source": [
    "# IMPORT PACKAGES\n",
    "import pandas as pd\n",
    "from scipy.stats import chisquare\n",
    "from pingouin import ttest\n",
    "from statsmodels.stats.proportion import proportions_ztest"
   ]
  },
  {
   "cell_type": "code",
   "execution_count": 2,
   "id": "e67cd4a4",
   "metadata": {},
   "outputs": [],
   "source": [
    "# DEFINE FUNCTIONS\n",
    "def estimate_effect_size(df: pd.DataFrame, metric: str) -> float:\n",
    "    \"\"\"\n",
    "    Calculate relative effect size\n",
    "\n",
    "    Parameters:\n",
    "    - df (pd.DataFrame): data with experiment_group ('control', 'variant') and metric columns.\n",
    "    - metric (str): name of the metric column\n",
    "\n",
    "    Returns:\n",
    "    - effect_size (float): average treatment effect (effect size)\n",
    "    \"\"\"\n",
    "    avg_metric_per_group = df.groupby('experiment_group')[metric].mean()\n",
    "    effect_size = avg_metric_per_group['variant'] / avg_metric_per_group['control'] - 1\n",
    "    return effect_size\n"
   ]
  },
  {
   "cell_type": "code",
   "execution_count": 3,
   "id": "1ff14e27",
   "metadata": {},
   "outputs": [],
   "source": [
    "\n",
    "# FIXED PARAMETERS\n",
    "confidence_level = 0.90  # Set desired confidence level (90%)\n",
    "alpha = 1 - confidence_level  # Significance level for hypothesis tests\n"
   ]
  },
  {
   "cell_type": "code",
   "execution_count": 4,
   "id": "d24cb30a",
   "metadata": {},
   "outputs": [],
   "source": [
    "# LOAD DATA\n",
    "users = pd.read_csv('users_data.csv') # Load user and experiment group data\n",
    "sessions = pd.read_csv('sessions_data.csv') # Load session/booking data\n"
   ]
  },
  {
   "cell_type": "code",
   "execution_count": 5,
   "id": "eb8c689c",
   "metadata": {},
   "outputs": [
    {
     "data": {
      "application/vnd.microsoft.datawrangler.viewer.v0+json": {
       "columns": [
        {
         "name": "index",
         "rawType": "int64",
         "type": "integer"
        },
        {
         "name": "session_id",
         "rawType": "object",
         "type": "string"
        },
        {
         "name": "user_id",
         "rawType": "object",
         "type": "string"
        },
        {
         "name": "session_start_timestamp",
         "rawType": "object",
         "type": "string"
        },
        {
         "name": "booking_timestamp",
         "rawType": "object",
         "type": "unknown"
        },
        {
         "name": "time_to_booking",
         "rawType": "float64",
         "type": "float"
        },
        {
         "name": "experiment_group",
         "rawType": "object",
         "type": "string"
        }
       ],
       "conversionMethod": "pd.DataFrame",
       "ref": "3142a2e5-779f-48bd-9a28-56a846855368",
       "rows": [
        [
         "0",
         "CP0lbAGnb5UNi3Ut",
         "TcCIMrtQ75wHGXVj",
         "2025-01-26 20:02:39.177358627",
         null,
         null,
         "variant"
        ],
        [
         "1",
         "UQAjrPYair63L1p8",
         "TcCIMrtQ75wHGXVj",
         "2025-01-20 16:12:51.536912203",
         null,
         null,
         "variant"
        ],
        [
         "2",
         "9zQrAPxV5oi2SzSa",
         "TcCIMrtQ75wHGXVj",
         "2025-01-28 03:46:40.839362144",
         null,
         null,
         "variant"
        ],
        [
         "3",
         "kkrz1M5vxrQ8wXRZ",
         "GUGVzto9KGqeX3dc",
         "2025-01-25 02:48:50.953303099",
         null,
         null,
         "variant"
        ],
        [
         "4",
         "ABZZFrwItZAPdYGP",
         "v2EBIHmOdQfalI6k",
         "2025-01-11 11:41:36.912253618",
         null,
         null,
         "variant"
        ],
        [
         "5",
         "9dGu1TXJ9cnNPDRD",
         "wnsKpRB9SE0gTZAq",
         "2025-01-20 00:21:33.958558559",
         null,
         null,
         "variant"
        ],
        [
         "6",
         "pjU3gt6Fti6axeMj",
         "go0Nl2hbR6L3zYu4",
         "2025-01-05 21:30:41.624932766",
         null,
         null,
         "variant"
        ],
        [
         "7",
         "94iFRPtpApTCJUkc",
         "XmsrbZS1PW4BXwdd",
         "2025-01-16 20:30:27.993453503",
         "2025-01-16 20:56:07.830598933",
         "25.663952423833333",
         "control"
        ],
        [
         "8",
         "JO0SGia9COmpYrKi",
         "XmsrbZS1PW4BXwdd",
         "2025-01-21 22:31:13.609749794",
         null,
         null,
         "control"
        ],
        [
         "9",
         "SWjTk16Q40V1kVUX",
         "XmsrbZS1PW4BXwdd",
         "2025-01-19 19:01:57.542657614",
         null,
         null,
         "control"
        ],
        [
         "10",
         "GfKVzZBTtjExR8Em",
         "Mt5gm2BMr9UkJ0Jb",
         "2025-01-23 05:29:36.047711134",
         null,
         null,
         "variant"
        ],
        [
         "11",
         "M6TUf3fMYneqqXCA",
         "VTqfOTwUp7OzTXaJ",
         "2025-01-15 20:08:54.657860279",
         null,
         null,
         "variant"
        ],
        [
         "12",
         "6PTa4K0z0qRX8Y4R",
         "VTqfOTwUp7OzTXaJ",
         "2025-01-27 22:48:35.756855726",
         null,
         null,
         "variant"
        ],
        [
         "13",
         "yK6PZnZfjB4vYG4t",
         "VTqfOTwUp7OzTXaJ",
         "2025-01-13 08:52:55.532226561",
         null,
         null,
         "variant"
        ],
        [
         "14",
         "nRHHxOS2IjEdZsWn",
         "DbteEhDM8b0mdSZh",
         "2025-01-07 02:30:49.202743292",
         null,
         null,
         "control"
        ],
        [
         "15",
         "ckrjDygdPsjoG0fm",
         "MygnCSuK3WG5Oy06",
         "2025-01-17 10:59:31.075790882",
         null,
         null,
         "variant"
        ],
        [
         "16",
         "IgYV9edvzLDYJ50d",
         "MygnCSuK3WG5Oy06",
         "2025-01-27 05:37:19.812357187",
         "2025-01-27 05:48:59.038562283",
         "11.653770084933331",
         "variant"
        ],
        [
         "17",
         "M1uaI4NuXRCagqfl",
         "7XhnS7b3Po4xHdry",
         "2025-01-19 06:34:27.402799845",
         null,
         null,
         "variant"
        ],
        [
         "18",
         "lSw4qrgxXWuzonBo",
         "7XhnS7b3Po4xHdry",
         "2025-01-21 09:06:32.314626932",
         "2025-01-21 09:19:25.493161566",
         "12.886308910566669",
         "variant"
        ],
        [
         "19",
         "Ag9E4ajLVQIJzNNS",
         "UxfHYLcsUT5JsBU2",
         "2025-01-21 00:19:14.756687641",
         null,
         null,
         "variant"
        ],
        [
         "20",
         "NIW3EBgBvmd3pNjp",
         "3jrdlAC4lkdT667x",
         "2025-01-01 10:33:57.101443529",
         null,
         null,
         "variant"
        ],
        [
         "21",
         "PBeqRlyo9Pzi4I4F",
         "zB5U7dJov72W4xxK",
         "2025-01-13 13:52:46.933131933",
         null,
         null,
         "variant"
        ],
        [
         "22",
         "sqRJiMRaDqboSQFT",
         "zB5U7dJov72W4xxK",
         "2025-01-16 15:10:28.372303486",
         null,
         null,
         "variant"
        ],
        [
         "23",
         "G513P482BE5bRDVI",
         "efW48jcLHf8jp7Cc",
         "2025-01-05 00:46:24.939937592",
         null,
         null,
         "control"
        ],
        [
         "24",
         "gSeppQrF9ltAmCeg",
         "kKdWdxB3ILXxvzr6",
         "2025-01-14 04:14:15.575031281",
         null,
         null,
         "variant"
        ],
        [
         "25",
         "Et6dx2GGCX2aST2P",
         "kKdWdxB3ILXxvzr6",
         "2025-01-11 01:36:10.623752356",
         null,
         null,
         "variant"
        ],
        [
         "26",
         "tGnrgakHfL119ctW",
         "cTki1GzJdZbhgJHN",
         "2025-01-30 09:39:06.793051720",
         null,
         null,
         "control"
        ],
        [
         "27",
         "N2zuDqzQQ9dTyJCP",
         "sCMfjOPe6xOvzYKS",
         "2025-01-27 00:22:54.265720606",
         "2025-01-27 00:46:39.319960842",
         "23.750904003933332",
         "variant"
        ],
        [
         "28",
         "KOQrREQv3S42bftW",
         "CJtrNS9O133ooxC1",
         "2025-01-07 22:57:22.303192616",
         null,
         null,
         "control"
        ],
        [
         "29",
         "my7rF7DlcnHs9V2n",
         "qWUypXqUUuRVA1ev",
         "2025-01-10 05:55:53.205838919",
         null,
         null,
         "control"
        ],
        [
         "30",
         "VnVKzs6sVPJ1J7hu",
         "GNbIQsNANJ6MbO0r",
         "2025-01-09 14:23:13.195790291",
         null,
         null,
         "control"
        ],
        [
         "31",
         "LzAUcL2cAXKf0gYs",
         "Tw1zkVaJXtEhNx1t",
         "2025-01-07 07:03:09.573149920",
         null,
         null,
         "control"
        ],
        [
         "32",
         "tq7ej61OarNaLo5G",
         "Tw1zkVaJXtEhNx1t",
         "2025-01-16 18:30:52.784365892",
         "2025-01-16 18:43:02.379662128",
         "12.159921603933332",
         "control"
        ],
        [
         "33",
         "e77iBOvqd2xLrRiz",
         "2oDtLbfPrJnzH1Dg",
         "2025-01-12 03:53:01.778132677",
         null,
         null,
         "variant"
        ],
        [
         "34",
         "u9aklFhaONRRHu2k",
         "2oDtLbfPrJnzH1Dg",
         "2025-01-01 07:25:35.414146662",
         "2025-01-01 07:35:35.455216225",
         "10.000684492716664",
         "variant"
        ],
        [
         "35",
         "QCesRKRT6lYw8znF",
         "6DrvqE3qEmAtqCMI",
         "2025-01-07 09:39:15.760219336",
         null,
         null,
         "control"
        ],
        [
         "36",
         "nlbmVVOjJO1pXNnI",
         "hQLoXaGcMLV9o98P",
         "2025-01-18 12:51:12.995858192",
         null,
         null,
         "control"
        ],
        [
         "37",
         "TdazoCTQXqJVcq4C",
         "hQLoXaGcMLV9o98P",
         "2025-01-15 19:32:16.771441460",
         null,
         null,
         "control"
        ],
        [
         "38",
         "xMSb7fcdjZZsga24",
         "hQLoXaGcMLV9o98P",
         "2025-01-11 03:24:33.922553778",
         null,
         null,
         "control"
        ],
        [
         "39",
         "POJvvA2CANhGuqn6",
         "rLEt6gKAhnXogGZH",
         "2025-01-24 21:08:37.484741926",
         "2025-01-24 21:24:17.550572084",
         "15.667763835966667",
         "variant"
        ],
        [
         "40",
         "7ZfAPuyiBiVXwuet",
         "rLEt6gKAhnXogGZH",
         "2025-01-16 16:06:41.013709545",
         null,
         null,
         "variant"
        ],
        [
         "41",
         "O26gqLahz4rc1iiW",
         "daOnELX0tcITGocB",
         "2025-01-27 02:06:17.505360602",
         null,
         null,
         "control"
        ],
        [
         "42",
         "YKr9anJ6tTpq0DoD",
         "daOnELX0tcITGocB",
         "2025-01-19 22:31:05.853376389",
         null,
         null,
         "control"
        ],
        [
         "43",
         "9z2AcJD8glNa0Wxw",
         "daOnELX0tcITGocB",
         "2025-01-17 01:25:30.960301638",
         null,
         null,
         "control"
        ],
        [
         "44",
         "IZUSQ0GPCVPMhHdm",
         "AUUGs35GEdFPB3pW",
         "2025-01-02 14:47:08.241076231",
         null,
         null,
         "variant"
        ],
        [
         "45",
         "SKzRXwk6sOuYjjxm",
         "QBoVvE7uFgGhn94y",
         "2025-01-03 00:44:17.968783855",
         null,
         null,
         "control"
        ],
        [
         "46",
         "Ytv1OGfwTiaxfcJn",
         "QBoVvE7uFgGhn94y",
         "2025-01-13 04:07:24.195841074",
         "2025-01-13 04:24:15.194093618",
         "16.849970875733334",
         "control"
        ],
        [
         "47",
         "rSDRjXTop2ypF16T",
         "FBbqAbhLtWK4uzEt",
         "2025-01-13 09:21:37.624858618",
         null,
         null,
         "control"
        ],
        [
         "48",
         "RYfg3EMwvhGvGwf3",
         "FBbqAbhLtWK4uzEt",
         "2025-01-21 18:30:50.985815525",
         null,
         null,
         "control"
        ],
        [
         "49",
         "boepXvuL0LxxJaVM",
         "fXo4azCbv87CiOu2",
         "2025-01-02 15:03:26.981533527",
         null,
         null,
         "control"
        ]
       ],
       "shape": {
        "columns": 6,
        "rows": 15283
       }
      },
      "text/html": [
       "<div>\n",
       "<style scoped>\n",
       "    .dataframe tbody tr th:only-of-type {\n",
       "        vertical-align: middle;\n",
       "    }\n",
       "\n",
       "    .dataframe tbody tr th {\n",
       "        vertical-align: top;\n",
       "    }\n",
       "\n",
       "    .dataframe thead th {\n",
       "        text-align: right;\n",
       "    }\n",
       "</style>\n",
       "<table border=\"1\" class=\"dataframe\">\n",
       "  <thead>\n",
       "    <tr style=\"text-align: right;\">\n",
       "      <th></th>\n",
       "      <th>session_id</th>\n",
       "      <th>user_id</th>\n",
       "      <th>session_start_timestamp</th>\n",
       "      <th>booking_timestamp</th>\n",
       "      <th>time_to_booking</th>\n",
       "      <th>experiment_group</th>\n",
       "    </tr>\n",
       "  </thead>\n",
       "  <tbody>\n",
       "    <tr>\n",
       "      <th>0</th>\n",
       "      <td>CP0lbAGnb5UNi3Ut</td>\n",
       "      <td>TcCIMrtQ75wHGXVj</td>\n",
       "      <td>2025-01-26 20:02:39.177358627</td>\n",
       "      <td>NaN</td>\n",
       "      <td>NaN</td>\n",
       "      <td>variant</td>\n",
       "    </tr>\n",
       "    <tr>\n",
       "      <th>1</th>\n",
       "      <td>UQAjrPYair63L1p8</td>\n",
       "      <td>TcCIMrtQ75wHGXVj</td>\n",
       "      <td>2025-01-20 16:12:51.536912203</td>\n",
       "      <td>NaN</td>\n",
       "      <td>NaN</td>\n",
       "      <td>variant</td>\n",
       "    </tr>\n",
       "    <tr>\n",
       "      <th>2</th>\n",
       "      <td>9zQrAPxV5oi2SzSa</td>\n",
       "      <td>TcCIMrtQ75wHGXVj</td>\n",
       "      <td>2025-01-28 03:46:40.839362144</td>\n",
       "      <td>NaN</td>\n",
       "      <td>NaN</td>\n",
       "      <td>variant</td>\n",
       "    </tr>\n",
       "    <tr>\n",
       "      <th>3</th>\n",
       "      <td>kkrz1M5vxrQ8wXRZ</td>\n",
       "      <td>GUGVzto9KGqeX3dc</td>\n",
       "      <td>2025-01-25 02:48:50.953303099</td>\n",
       "      <td>NaN</td>\n",
       "      <td>NaN</td>\n",
       "      <td>variant</td>\n",
       "    </tr>\n",
       "    <tr>\n",
       "      <th>4</th>\n",
       "      <td>ABZZFrwItZAPdYGP</td>\n",
       "      <td>v2EBIHmOdQfalI6k</td>\n",
       "      <td>2025-01-11 11:41:36.912253618</td>\n",
       "      <td>NaN</td>\n",
       "      <td>NaN</td>\n",
       "      <td>variant</td>\n",
       "    </tr>\n",
       "    <tr>\n",
       "      <th>...</th>\n",
       "      <td>...</td>\n",
       "      <td>...</td>\n",
       "      <td>...</td>\n",
       "      <td>...</td>\n",
       "      <td>...</td>\n",
       "      <td>...</td>\n",
       "    </tr>\n",
       "    <tr>\n",
       "      <th>15278</th>\n",
       "      <td>r97QgNbPezCuHDIe</td>\n",
       "      <td>ieZHD9fUWFNBGvDY</td>\n",
       "      <td>2025-01-03 11:03:07.077358723</td>\n",
       "      <td>NaN</td>\n",
       "      <td>NaN</td>\n",
       "      <td>control</td>\n",
       "    </tr>\n",
       "    <tr>\n",
       "      <th>15279</th>\n",
       "      <td>h6Bi84uYTCkRPbbK</td>\n",
       "      <td>ieZHD9fUWFNBGvDY</td>\n",
       "      <td>2025-01-09 23:20:27.544024706</td>\n",
       "      <td>NaN</td>\n",
       "      <td>NaN</td>\n",
       "      <td>control</td>\n",
       "    </tr>\n",
       "    <tr>\n",
       "      <th>15280</th>\n",
       "      <td>dgHigXEDcRv212yK</td>\n",
       "      <td>0Dt3nGFV3sdFziMU</td>\n",
       "      <td>2025-01-13 01:50:17.851139069</td>\n",
       "      <td>NaN</td>\n",
       "      <td>NaN</td>\n",
       "      <td>control</td>\n",
       "    </tr>\n",
       "    <tr>\n",
       "      <th>15281</th>\n",
       "      <td>4qH5gmksGUoSSfjw</td>\n",
       "      <td>0Dt3nGFV3sdFziMU</td>\n",
       "      <td>2025-01-10 05:39:53.701869011</td>\n",
       "      <td>NaN</td>\n",
       "      <td>NaN</td>\n",
       "      <td>control</td>\n",
       "    </tr>\n",
       "    <tr>\n",
       "      <th>15282</th>\n",
       "      <td>bETmNKoJJdQSm1kl</td>\n",
       "      <td>y4NFIfXH808iZSqG</td>\n",
       "      <td>2025-01-02 09:53:19.454038382</td>\n",
       "      <td>2025-01-02 10:01:51.535808008</td>\n",
       "      <td>8.534696</td>\n",
       "      <td>control</td>\n",
       "    </tr>\n",
       "  </tbody>\n",
       "</table>\n",
       "<p>15283 rows × 6 columns</p>\n",
       "</div>"
      ],
      "text/plain": [
       "             session_id           user_id        session_start_timestamp  \\\n",
       "0      CP0lbAGnb5UNi3Ut  TcCIMrtQ75wHGXVj  2025-01-26 20:02:39.177358627   \n",
       "1      UQAjrPYair63L1p8  TcCIMrtQ75wHGXVj  2025-01-20 16:12:51.536912203   \n",
       "2      9zQrAPxV5oi2SzSa  TcCIMrtQ75wHGXVj  2025-01-28 03:46:40.839362144   \n",
       "3      kkrz1M5vxrQ8wXRZ  GUGVzto9KGqeX3dc  2025-01-25 02:48:50.953303099   \n",
       "4      ABZZFrwItZAPdYGP  v2EBIHmOdQfalI6k  2025-01-11 11:41:36.912253618   \n",
       "...                 ...               ...                            ...   \n",
       "15278  r97QgNbPezCuHDIe  ieZHD9fUWFNBGvDY  2025-01-03 11:03:07.077358723   \n",
       "15279  h6Bi84uYTCkRPbbK  ieZHD9fUWFNBGvDY  2025-01-09 23:20:27.544024706   \n",
       "15280  dgHigXEDcRv212yK  0Dt3nGFV3sdFziMU  2025-01-13 01:50:17.851139069   \n",
       "15281  4qH5gmksGUoSSfjw  0Dt3nGFV3sdFziMU  2025-01-10 05:39:53.701869011   \n",
       "15282  bETmNKoJJdQSm1kl  y4NFIfXH808iZSqG  2025-01-02 09:53:19.454038382   \n",
       "\n",
       "                   booking_timestamp  time_to_booking experiment_group  \n",
       "0                                NaN              NaN          variant  \n",
       "1                                NaN              NaN          variant  \n",
       "2                                NaN              NaN          variant  \n",
       "3                                NaN              NaN          variant  \n",
       "4                                NaN              NaN          variant  \n",
       "...                              ...              ...              ...  \n",
       "15278                            NaN              NaN          control  \n",
       "15279                            NaN              NaN          control  \n",
       "15280                            NaN              NaN          control  \n",
       "15281                            NaN              NaN          control  \n",
       "15282  2025-01-02 10:01:51.535808008         8.534696          control  \n",
       "\n",
       "[15283 rows x 6 columns]"
      ]
     },
     "execution_count": 5,
     "metadata": {},
     "output_type": "execute_result"
    }
   ],
   "source": [
    "# JOIN DATA\n",
    "# Merge on user ID to enrich sessions with user experiment group\n",
    "sessions_x_users = sessions.merge(users, on = 'user_id', how = 'inner')\n",
    "sessions_x_users"
   ]
  },
  {
   "cell_type": "code",
   "execution_count": 6,
   "id": "a2014807",
   "metadata": {},
   "outputs": [
    {
     "data": {
      "application/vnd.microsoft.datawrangler.viewer.v0+json": {
       "columns": [
        {
         "name": "index",
         "rawType": "int64",
         "type": "integer"
        },
        {
         "name": "session_id",
         "rawType": "object",
         "type": "string"
        },
        {
         "name": "user_id",
         "rawType": "object",
         "type": "string"
        },
        {
         "name": "session_start_timestamp",
         "rawType": "object",
         "type": "string"
        },
        {
         "name": "booking_timestamp",
         "rawType": "object",
         "type": "unknown"
        },
        {
         "name": "time_to_booking",
         "rawType": "float64",
         "type": "float"
        },
        {
         "name": "experiment_group",
         "rawType": "object",
         "type": "string"
        },
        {
         "name": "conversion",
         "rawType": "int64",
         "type": "integer"
        }
       ],
       "conversionMethod": "pd.DataFrame",
       "ref": "22272536-708b-4f51-9cbc-247d9f42982c",
       "rows": [
        [
         "0",
         "CP0lbAGnb5UNi3Ut",
         "TcCIMrtQ75wHGXVj",
         "2025-01-26 20:02:39.177358627",
         null,
         null,
         "variant",
         "0"
        ],
        [
         "1",
         "UQAjrPYair63L1p8",
         "TcCIMrtQ75wHGXVj",
         "2025-01-20 16:12:51.536912203",
         null,
         null,
         "variant",
         "0"
        ],
        [
         "2",
         "9zQrAPxV5oi2SzSa",
         "TcCIMrtQ75wHGXVj",
         "2025-01-28 03:46:40.839362144",
         null,
         null,
         "variant",
         "0"
        ],
        [
         "3",
         "kkrz1M5vxrQ8wXRZ",
         "GUGVzto9KGqeX3dc",
         "2025-01-25 02:48:50.953303099",
         null,
         null,
         "variant",
         "0"
        ],
        [
         "4",
         "ABZZFrwItZAPdYGP",
         "v2EBIHmOdQfalI6k",
         "2025-01-11 11:41:36.912253618",
         null,
         null,
         "variant",
         "0"
        ],
        [
         "5",
         "9dGu1TXJ9cnNPDRD",
         "wnsKpRB9SE0gTZAq",
         "2025-01-20 00:21:33.958558559",
         null,
         null,
         "variant",
         "0"
        ],
        [
         "6",
         "pjU3gt6Fti6axeMj",
         "go0Nl2hbR6L3zYu4",
         "2025-01-05 21:30:41.624932766",
         null,
         null,
         "variant",
         "0"
        ],
        [
         "7",
         "94iFRPtpApTCJUkc",
         "XmsrbZS1PW4BXwdd",
         "2025-01-16 20:30:27.993453503",
         "2025-01-16 20:56:07.830598933",
         "25.663952423833333",
         "control",
         "1"
        ],
        [
         "8",
         "JO0SGia9COmpYrKi",
         "XmsrbZS1PW4BXwdd",
         "2025-01-21 22:31:13.609749794",
         null,
         null,
         "control",
         "0"
        ],
        [
         "9",
         "SWjTk16Q40V1kVUX",
         "XmsrbZS1PW4BXwdd",
         "2025-01-19 19:01:57.542657614",
         null,
         null,
         "control",
         "0"
        ],
        [
         "10",
         "GfKVzZBTtjExR8Em",
         "Mt5gm2BMr9UkJ0Jb",
         "2025-01-23 05:29:36.047711134",
         null,
         null,
         "variant",
         "0"
        ],
        [
         "11",
         "M6TUf3fMYneqqXCA",
         "VTqfOTwUp7OzTXaJ",
         "2025-01-15 20:08:54.657860279",
         null,
         null,
         "variant",
         "0"
        ],
        [
         "12",
         "6PTa4K0z0qRX8Y4R",
         "VTqfOTwUp7OzTXaJ",
         "2025-01-27 22:48:35.756855726",
         null,
         null,
         "variant",
         "0"
        ],
        [
         "13",
         "yK6PZnZfjB4vYG4t",
         "VTqfOTwUp7OzTXaJ",
         "2025-01-13 08:52:55.532226561",
         null,
         null,
         "variant",
         "0"
        ],
        [
         "14",
         "nRHHxOS2IjEdZsWn",
         "DbteEhDM8b0mdSZh",
         "2025-01-07 02:30:49.202743292",
         null,
         null,
         "control",
         "0"
        ],
        [
         "15",
         "ckrjDygdPsjoG0fm",
         "MygnCSuK3WG5Oy06",
         "2025-01-17 10:59:31.075790882",
         null,
         null,
         "variant",
         "0"
        ],
        [
         "16",
         "IgYV9edvzLDYJ50d",
         "MygnCSuK3WG5Oy06",
         "2025-01-27 05:37:19.812357187",
         "2025-01-27 05:48:59.038562283",
         "11.653770084933331",
         "variant",
         "1"
        ],
        [
         "17",
         "M1uaI4NuXRCagqfl",
         "7XhnS7b3Po4xHdry",
         "2025-01-19 06:34:27.402799845",
         null,
         null,
         "variant",
         "0"
        ],
        [
         "18",
         "lSw4qrgxXWuzonBo",
         "7XhnS7b3Po4xHdry",
         "2025-01-21 09:06:32.314626932",
         "2025-01-21 09:19:25.493161566",
         "12.886308910566669",
         "variant",
         "1"
        ],
        [
         "19",
         "Ag9E4ajLVQIJzNNS",
         "UxfHYLcsUT5JsBU2",
         "2025-01-21 00:19:14.756687641",
         null,
         null,
         "variant",
         "0"
        ],
        [
         "20",
         "NIW3EBgBvmd3pNjp",
         "3jrdlAC4lkdT667x",
         "2025-01-01 10:33:57.101443529",
         null,
         null,
         "variant",
         "0"
        ],
        [
         "21",
         "PBeqRlyo9Pzi4I4F",
         "zB5U7dJov72W4xxK",
         "2025-01-13 13:52:46.933131933",
         null,
         null,
         "variant",
         "0"
        ],
        [
         "22",
         "sqRJiMRaDqboSQFT",
         "zB5U7dJov72W4xxK",
         "2025-01-16 15:10:28.372303486",
         null,
         null,
         "variant",
         "0"
        ],
        [
         "23",
         "G513P482BE5bRDVI",
         "efW48jcLHf8jp7Cc",
         "2025-01-05 00:46:24.939937592",
         null,
         null,
         "control",
         "0"
        ],
        [
         "24",
         "gSeppQrF9ltAmCeg",
         "kKdWdxB3ILXxvzr6",
         "2025-01-14 04:14:15.575031281",
         null,
         null,
         "variant",
         "0"
        ],
        [
         "25",
         "Et6dx2GGCX2aST2P",
         "kKdWdxB3ILXxvzr6",
         "2025-01-11 01:36:10.623752356",
         null,
         null,
         "variant",
         "0"
        ],
        [
         "26",
         "tGnrgakHfL119ctW",
         "cTki1GzJdZbhgJHN",
         "2025-01-30 09:39:06.793051720",
         null,
         null,
         "control",
         "0"
        ],
        [
         "27",
         "N2zuDqzQQ9dTyJCP",
         "sCMfjOPe6xOvzYKS",
         "2025-01-27 00:22:54.265720606",
         "2025-01-27 00:46:39.319960842",
         "23.750904003933332",
         "variant",
         "1"
        ],
        [
         "28",
         "KOQrREQv3S42bftW",
         "CJtrNS9O133ooxC1",
         "2025-01-07 22:57:22.303192616",
         null,
         null,
         "control",
         "0"
        ],
        [
         "29",
         "my7rF7DlcnHs9V2n",
         "qWUypXqUUuRVA1ev",
         "2025-01-10 05:55:53.205838919",
         null,
         null,
         "control",
         "0"
        ],
        [
         "30",
         "VnVKzs6sVPJ1J7hu",
         "GNbIQsNANJ6MbO0r",
         "2025-01-09 14:23:13.195790291",
         null,
         null,
         "control",
         "0"
        ],
        [
         "31",
         "LzAUcL2cAXKf0gYs",
         "Tw1zkVaJXtEhNx1t",
         "2025-01-07 07:03:09.573149920",
         null,
         null,
         "control",
         "0"
        ],
        [
         "32",
         "tq7ej61OarNaLo5G",
         "Tw1zkVaJXtEhNx1t",
         "2025-01-16 18:30:52.784365892",
         "2025-01-16 18:43:02.379662128",
         "12.159921603933332",
         "control",
         "1"
        ],
        [
         "33",
         "e77iBOvqd2xLrRiz",
         "2oDtLbfPrJnzH1Dg",
         "2025-01-12 03:53:01.778132677",
         null,
         null,
         "variant",
         "0"
        ],
        [
         "34",
         "u9aklFhaONRRHu2k",
         "2oDtLbfPrJnzH1Dg",
         "2025-01-01 07:25:35.414146662",
         "2025-01-01 07:35:35.455216225",
         "10.000684492716664",
         "variant",
         "1"
        ],
        [
         "35",
         "QCesRKRT6lYw8znF",
         "6DrvqE3qEmAtqCMI",
         "2025-01-07 09:39:15.760219336",
         null,
         null,
         "control",
         "0"
        ],
        [
         "36",
         "nlbmVVOjJO1pXNnI",
         "hQLoXaGcMLV9o98P",
         "2025-01-18 12:51:12.995858192",
         null,
         null,
         "control",
         "0"
        ],
        [
         "37",
         "TdazoCTQXqJVcq4C",
         "hQLoXaGcMLV9o98P",
         "2025-01-15 19:32:16.771441460",
         null,
         null,
         "control",
         "0"
        ],
        [
         "38",
         "xMSb7fcdjZZsga24",
         "hQLoXaGcMLV9o98P",
         "2025-01-11 03:24:33.922553778",
         null,
         null,
         "control",
         "0"
        ],
        [
         "39",
         "POJvvA2CANhGuqn6",
         "rLEt6gKAhnXogGZH",
         "2025-01-24 21:08:37.484741926",
         "2025-01-24 21:24:17.550572084",
         "15.667763835966667",
         "variant",
         "1"
        ],
        [
         "40",
         "7ZfAPuyiBiVXwuet",
         "rLEt6gKAhnXogGZH",
         "2025-01-16 16:06:41.013709545",
         null,
         null,
         "variant",
         "0"
        ],
        [
         "41",
         "O26gqLahz4rc1iiW",
         "daOnELX0tcITGocB",
         "2025-01-27 02:06:17.505360602",
         null,
         null,
         "control",
         "0"
        ],
        [
         "42",
         "YKr9anJ6tTpq0DoD",
         "daOnELX0tcITGocB",
         "2025-01-19 22:31:05.853376389",
         null,
         null,
         "control",
         "0"
        ],
        [
         "43",
         "9z2AcJD8glNa0Wxw",
         "daOnELX0tcITGocB",
         "2025-01-17 01:25:30.960301638",
         null,
         null,
         "control",
         "0"
        ],
        [
         "44",
         "IZUSQ0GPCVPMhHdm",
         "AUUGs35GEdFPB3pW",
         "2025-01-02 14:47:08.241076231",
         null,
         null,
         "variant",
         "0"
        ],
        [
         "45",
         "SKzRXwk6sOuYjjxm",
         "QBoVvE7uFgGhn94y",
         "2025-01-03 00:44:17.968783855",
         null,
         null,
         "control",
         "0"
        ],
        [
         "46",
         "Ytv1OGfwTiaxfcJn",
         "QBoVvE7uFgGhn94y",
         "2025-01-13 04:07:24.195841074",
         "2025-01-13 04:24:15.194093618",
         "16.849970875733334",
         "control",
         "1"
        ],
        [
         "47",
         "rSDRjXTop2ypF16T",
         "FBbqAbhLtWK4uzEt",
         "2025-01-13 09:21:37.624858618",
         null,
         null,
         "control",
         "0"
        ],
        [
         "48",
         "RYfg3EMwvhGvGwf3",
         "FBbqAbhLtWK4uzEt",
         "2025-01-21 18:30:50.985815525",
         null,
         null,
         "control",
         "0"
        ],
        [
         "49",
         "boepXvuL0LxxJaVM",
         "fXo4azCbv87CiOu2",
         "2025-01-02 15:03:26.981533527",
         null,
         null,
         "control",
         "0"
        ]
       ],
       "shape": {
        "columns": 7,
        "rows": 15283
       }
      },
      "text/html": [
       "<div>\n",
       "<style scoped>\n",
       "    .dataframe tbody tr th:only-of-type {\n",
       "        vertical-align: middle;\n",
       "    }\n",
       "\n",
       "    .dataframe tbody tr th {\n",
       "        vertical-align: top;\n",
       "    }\n",
       "\n",
       "    .dataframe thead th {\n",
       "        text-align: right;\n",
       "    }\n",
       "</style>\n",
       "<table border=\"1\" class=\"dataframe\">\n",
       "  <thead>\n",
       "    <tr style=\"text-align: right;\">\n",
       "      <th></th>\n",
       "      <th>session_id</th>\n",
       "      <th>user_id</th>\n",
       "      <th>session_start_timestamp</th>\n",
       "      <th>booking_timestamp</th>\n",
       "      <th>time_to_booking</th>\n",
       "      <th>experiment_group</th>\n",
       "      <th>conversion</th>\n",
       "    </tr>\n",
       "  </thead>\n",
       "  <tbody>\n",
       "    <tr>\n",
       "      <th>0</th>\n",
       "      <td>CP0lbAGnb5UNi3Ut</td>\n",
       "      <td>TcCIMrtQ75wHGXVj</td>\n",
       "      <td>2025-01-26 20:02:39.177358627</td>\n",
       "      <td>NaN</td>\n",
       "      <td>NaN</td>\n",
       "      <td>variant</td>\n",
       "      <td>0</td>\n",
       "    </tr>\n",
       "    <tr>\n",
       "      <th>1</th>\n",
       "      <td>UQAjrPYair63L1p8</td>\n",
       "      <td>TcCIMrtQ75wHGXVj</td>\n",
       "      <td>2025-01-20 16:12:51.536912203</td>\n",
       "      <td>NaN</td>\n",
       "      <td>NaN</td>\n",
       "      <td>variant</td>\n",
       "      <td>0</td>\n",
       "    </tr>\n",
       "    <tr>\n",
       "      <th>2</th>\n",
       "      <td>9zQrAPxV5oi2SzSa</td>\n",
       "      <td>TcCIMrtQ75wHGXVj</td>\n",
       "      <td>2025-01-28 03:46:40.839362144</td>\n",
       "      <td>NaN</td>\n",
       "      <td>NaN</td>\n",
       "      <td>variant</td>\n",
       "      <td>0</td>\n",
       "    </tr>\n",
       "    <tr>\n",
       "      <th>3</th>\n",
       "      <td>kkrz1M5vxrQ8wXRZ</td>\n",
       "      <td>GUGVzto9KGqeX3dc</td>\n",
       "      <td>2025-01-25 02:48:50.953303099</td>\n",
       "      <td>NaN</td>\n",
       "      <td>NaN</td>\n",
       "      <td>variant</td>\n",
       "      <td>0</td>\n",
       "    </tr>\n",
       "    <tr>\n",
       "      <th>4</th>\n",
       "      <td>ABZZFrwItZAPdYGP</td>\n",
       "      <td>v2EBIHmOdQfalI6k</td>\n",
       "      <td>2025-01-11 11:41:36.912253618</td>\n",
       "      <td>NaN</td>\n",
       "      <td>NaN</td>\n",
       "      <td>variant</td>\n",
       "      <td>0</td>\n",
       "    </tr>\n",
       "    <tr>\n",
       "      <th>...</th>\n",
       "      <td>...</td>\n",
       "      <td>...</td>\n",
       "      <td>...</td>\n",
       "      <td>...</td>\n",
       "      <td>...</td>\n",
       "      <td>...</td>\n",
       "      <td>...</td>\n",
       "    </tr>\n",
       "    <tr>\n",
       "      <th>15278</th>\n",
       "      <td>r97QgNbPezCuHDIe</td>\n",
       "      <td>ieZHD9fUWFNBGvDY</td>\n",
       "      <td>2025-01-03 11:03:07.077358723</td>\n",
       "      <td>NaN</td>\n",
       "      <td>NaN</td>\n",
       "      <td>control</td>\n",
       "      <td>0</td>\n",
       "    </tr>\n",
       "    <tr>\n",
       "      <th>15279</th>\n",
       "      <td>h6Bi84uYTCkRPbbK</td>\n",
       "      <td>ieZHD9fUWFNBGvDY</td>\n",
       "      <td>2025-01-09 23:20:27.544024706</td>\n",
       "      <td>NaN</td>\n",
       "      <td>NaN</td>\n",
       "      <td>control</td>\n",
       "      <td>0</td>\n",
       "    </tr>\n",
       "    <tr>\n",
       "      <th>15280</th>\n",
       "      <td>dgHigXEDcRv212yK</td>\n",
       "      <td>0Dt3nGFV3sdFziMU</td>\n",
       "      <td>2025-01-13 01:50:17.851139069</td>\n",
       "      <td>NaN</td>\n",
       "      <td>NaN</td>\n",
       "      <td>control</td>\n",
       "      <td>0</td>\n",
       "    </tr>\n",
       "    <tr>\n",
       "      <th>15281</th>\n",
       "      <td>4qH5gmksGUoSSfjw</td>\n",
       "      <td>0Dt3nGFV3sdFziMU</td>\n",
       "      <td>2025-01-10 05:39:53.701869011</td>\n",
       "      <td>NaN</td>\n",
       "      <td>NaN</td>\n",
       "      <td>control</td>\n",
       "      <td>0</td>\n",
       "    </tr>\n",
       "    <tr>\n",
       "      <th>15282</th>\n",
       "      <td>bETmNKoJJdQSm1kl</td>\n",
       "      <td>y4NFIfXH808iZSqG</td>\n",
       "      <td>2025-01-02 09:53:19.454038382</td>\n",
       "      <td>2025-01-02 10:01:51.535808008</td>\n",
       "      <td>8.534696</td>\n",
       "      <td>control</td>\n",
       "      <td>1</td>\n",
       "    </tr>\n",
       "  </tbody>\n",
       "</table>\n",
       "<p>15283 rows × 7 columns</p>\n",
       "</div>"
      ],
      "text/plain": [
       "             session_id           user_id        session_start_timestamp  \\\n",
       "0      CP0lbAGnb5UNi3Ut  TcCIMrtQ75wHGXVj  2025-01-26 20:02:39.177358627   \n",
       "1      UQAjrPYair63L1p8  TcCIMrtQ75wHGXVj  2025-01-20 16:12:51.536912203   \n",
       "2      9zQrAPxV5oi2SzSa  TcCIMrtQ75wHGXVj  2025-01-28 03:46:40.839362144   \n",
       "3      kkrz1M5vxrQ8wXRZ  GUGVzto9KGqeX3dc  2025-01-25 02:48:50.953303099   \n",
       "4      ABZZFrwItZAPdYGP  v2EBIHmOdQfalI6k  2025-01-11 11:41:36.912253618   \n",
       "...                 ...               ...                            ...   \n",
       "15278  r97QgNbPezCuHDIe  ieZHD9fUWFNBGvDY  2025-01-03 11:03:07.077358723   \n",
       "15279  h6Bi84uYTCkRPbbK  ieZHD9fUWFNBGvDY  2025-01-09 23:20:27.544024706   \n",
       "15280  dgHigXEDcRv212yK  0Dt3nGFV3sdFziMU  2025-01-13 01:50:17.851139069   \n",
       "15281  4qH5gmksGUoSSfjw  0Dt3nGFV3sdFziMU  2025-01-10 05:39:53.701869011   \n",
       "15282  bETmNKoJJdQSm1kl  y4NFIfXH808iZSqG  2025-01-02 09:53:19.454038382   \n",
       "\n",
       "                   booking_timestamp  time_to_booking experiment_group  \\\n",
       "0                                NaN              NaN          variant   \n",
       "1                                NaN              NaN          variant   \n",
       "2                                NaN              NaN          variant   \n",
       "3                                NaN              NaN          variant   \n",
       "4                                NaN              NaN          variant   \n",
       "...                              ...              ...              ...   \n",
       "15278                            NaN              NaN          control   \n",
       "15279                            NaN              NaN          control   \n",
       "15280                            NaN              NaN          control   \n",
       "15281                            NaN              NaN          control   \n",
       "15282  2025-01-02 10:01:51.535808008         8.534696          control   \n",
       "\n",
       "       conversion  \n",
       "0               0  \n",
       "1               0  \n",
       "2               0  \n",
       "3               0  \n",
       "4               0  \n",
       "...           ...  \n",
       "15278           0  \n",
       "15279           0  \n",
       "15280           0  \n",
       "15281           0  \n",
       "15282           1  \n",
       "\n",
       "[15283 rows x 7 columns]"
      ]
     },
     "execution_count": 6,
     "metadata": {},
     "output_type": "execute_result"
    }
   ],
   "source": [
    "# COMPUTE PRIMARY METRIC\n",
    "# Binary conversion flag: 1 if booking occurred, 0 otherwise\n",
    "sessions_x_users['conversion'] = sessions_x_users['booking_timestamp'].notnull().astype(int)\n",
    "sessions_x_users"
   ]
  },
  {
   "cell_type": "code",
   "execution_count": 7,
   "id": "9b880b42",
   "metadata": {},
   "outputs": [
    {
     "name": "stdout",
     "output_type": "stream",
     "text": [
      "experiment_group\n",
      "variant    7653\n",
      "control    7630\n",
      "Name: count, dtype: int64\n",
      "\n",
      "SRM\n",
      "p-value: 0.8524\n"
     ]
    }
   ],
   "source": [
    "# SAMPLE RATIO MISMATCH TEST\n",
    "# Check if the number of users in each experiment group is balanced (a basic A/A sanity check)\n",
    "groups_count = sessions_x_users['experiment_group'].value_counts()\n",
    "print(groups_count)\n",
    "\n",
    "n = sessions_x_users.shape[0] # Total sample size\n",
    "srm_chi2_stat, srm_chi2_pval = chisquare(f_obs = groups_count, f_exp = (n/2, n/2))\n",
    "srm_chi2_pval = round(srm_chi2_pval, 4)\n",
    "print(f'\\nSRM\\np-value: {srm_chi2_pval}') # If p < alpha, there's likely a sampling issue issue"
   ]
  },
  {
   "cell_type": "code",
   "execution_count": null,
   "id": "3f8a6334",
   "metadata": {},
   "outputs": [],
   "source": [
    "# EFFECT ANALYSIS - PRIMARY METRIC\n",
    "# Compute success counts and sample sizes for each group\n",
    "success_counts = sessions_x_users.groupby('experiment_group')['conversion'].sum().loc[['control', 'variant']]\n",
    "sample_sizes = sessions_x_users['experiment_group'].value_counts().loc[['control', 'variant']]\n"
   ]
  },
  {
   "cell_type": "code",
   "execution_count": null,
   "id": "f31c58c0",
   "metadata": {},
   "outputs": [],
   "source": [
    "# Run Z-test for proportions (binary conversion metric)\n",
    "zstat_primary, pval_primary = proportions_ztest(\n",
    "    success_counts,\n",
    "    sample_sizes,\n",
    "    alternative = 'two-sided',\n",
    ")\n",
    "pval_primary = round(pval_primary, 4)"
   ]
  },
  {
   "cell_type": "code",
   "execution_count": 11,
   "id": "b8ad633f",
   "metadata": {},
   "outputs": [
    {
     "name": "stdout",
     "output_type": "stream",
     "text": [
      "\n",
      "Primary metric\n",
      "p-value:  0.0001 | effect size:  0.1422\n"
     ]
    }
   ],
   "source": [
    "# Estimate effect size for the conversion metric\n",
    "effect_size_primary = estimate_effect_size(sessions_x_users, 'conversion')\n",
    "effect_size_primary = round(effect_size_primary, 4)\n",
    "print(f'\\nPrimary metric\\np-value: {pval_primary: .4f} | effect size: {effect_size_primary: .4f}')"
   ]
  },
  {
   "cell_type": "code",
   "execution_count": 12,
   "id": "2221fc91",
   "metadata": {},
   "outputs": [],
   "source": [
    "# EFFECT ANALYSIS - GUARDRAIL METRIC\n",
    "# T-test on time to booking for control vs variant\n",
    "stats_guardrail = ttest(\n",
    "    sessions_x_users.loc[(sessions_x_users['experiment_group'] == 'control'), 'time_to_booking'],\n",
    "    sessions_x_users.loc[(sessions_x_users['experiment_group'] == 'variant'), 'time_to_booking'],\n",
    "    alternative='two-sided',\n",
    ")\n",
    "pval_guardrail, tstat_guardrail = stats_guardrail['p-val'].values[0], stats_guardrail['T'].values[0]\n",
    "pval_guardrail = round(pval_guardrail, 4)"
   ]
  },
  {
   "cell_type": "code",
   "execution_count": 13,
   "id": "25df1da1",
   "metadata": {},
   "outputs": [
    {
     "name": "stdout",
     "output_type": "stream",
     "text": [
      "\n",
      "Guardrail\n",
      "p-value: 0.5365 | effect size: -0.0079\n"
     ]
    }
   ],
   "source": [
    "# Estimate effect size for the guardrail metric\n",
    "effect_size_guardrail = estimate_effect_size(sessions_x_users, 'time_to_booking')\n",
    "effect_size_guardrail = round(effect_size_guardrail, 4)\n",
    "print(f'\\nGuardrail\\np-value: {pval_guardrail} | effect size: {effect_size_guardrail}')"
   ]
  },
  {
   "cell_type": "code",
   "execution_count": 14,
   "id": "d1aee811",
   "metadata": {},
   "outputs": [],
   "source": [
    "# DECISION\n",
    "# Primary metric must be statistically significant and show positive effect (increase)\n",
    "criteria_full_on_primary = (pval_primary < alpha) & (effect_size_primary > 0)"
   ]
  },
  {
   "cell_type": "code",
   "execution_count": null,
   "id": "1405b592",
   "metadata": {},
   "outputs": [],
   "source": [
    "# Guardrail must either be statistically insignificant or show positive effect (decrease)\n",
    "criteria_full_on_guardrail = (pval_guardrail > alpha) | (effect_size_guardrail <= 0)"
   ]
  },
  {
   "cell_type": "code",
   "execution_count": 17,
   "id": "61c35baf",
   "metadata": {},
   "outputs": [
    {
     "name": "stdout",
     "output_type": "stream",
     "text": [
      "\n",
      "The experiment results are significantly positive and the guardrail metric was not harmed, we are going full on!\n"
     ]
    }
   ],
   "source": [
    "# Final launch decision based on both metrics\n",
    "if criteria_full_on_primary and criteria_full_on_guardrail:\n",
    "    decision_full_on = 'Yes'\n",
    "    print('\\nThe experiment results are significantly positive and the guardrail metric was not harmed, we are going full on!')\n",
    "else:\n",
    "    decision_full_on = 'No'\n",
    "    print('\\nThe experiment results are inconclusive or the guardrail metric was harmed, we are pulling back!')"
   ]
  }
 ],
 "metadata": {
  "colab": {
   "name": "Welcome to DataCamp Workspaces.ipynb",
   "provenance": []
  },
  "editor": "DataLab",
  "kernelspec": {
   "display_name": "base",
   "language": "python",
   "name": "python3"
  },
  "language_info": {
   "codemirror_mode": {
    "name": "ipython",
    "version": 3
   },
   "file_extension": ".py",
   "mimetype": "text/x-python",
   "name": "python",
   "nbconvert_exporter": "python",
   "pygments_lexer": "ipython3",
   "version": "3.12.7"
  }
 },
 "nbformat": 4,
 "nbformat_minor": 5
}
